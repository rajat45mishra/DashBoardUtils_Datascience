{
 "cells": [
  {
   "cell_type": "code",
   "execution_count": 3,
   "metadata": {},
   "outputs": [
    {
     "data": {
      "text/plain": [
       "[b'4 Job offer letter formats for every situation (with examples)\\n',\n",
       " b'\\n',\n",
       " b'Finding the ideal applicant to hire is a difficult task. You identify the ideal individual after analysing resumes and conducting multiple rounds of interviews. The employer now needs to seal the deal with the potential worker. A job offer letter becomes crucial in this situation. An informative job offer letter format may help employers to communicate clearly. A compelling job offer letter emphasises the benefits and other perks and gives the applicant more incentive to accept. In this article, you will find 5 types of job offer letter examples. Also, you will learn tips on how to increase the acceptance rate.\\n',\n",
       " b'What is a Job Offer Letter?\\n',\n",
       " b'\\n',\n",
       " b'When the employer finds the right candidate, he contacts them with a job offer. Mostly the HR department calls the chosen candidate and lets them know about the job offer. The job offer is also sent to the candidate via email or in writing. Job offer letter may not always be an employment agreement, an offer letter:\\n',\n",
       " b'\\n',\n",
       " b'    Offers a position to the selected candidate\\n',\n",
       " b'    Includes the main terms and conditions of the job offer\\n',\n",
       " b'    Provide details about the position and company to help the candidate to accept the job offer.\\n',\n",
       " b'\\n',\n",
       " b'If the candidate finds the job offer letter to be acceptable, they will sign and return the letter to the employer. The job offer letter is not legally binding like an employee agreement. This offers legal protection to the employers and the employees before signing the employment agreement. However, the employer can revoke the job offer letter under section 5 of the Indian Contract Act, 1872 before receiving the communication of acceptance.']"
      ]
     },
     "execution_count": 3,
     "metadata": {},
     "output_type": "execute_result"
    }
   ],
   "source": [
    "text=[]\n",
    "with open(\"test.txt\",\"rb\") as E:\n",
    "    text=E.readlines()\n",
    "\n",
    "text=[x.decode() for x in text]\n",
    "\n",
    "from package.formatcalculator import FormatCalculator\n",
    "\n",
    "list(FormatCalculator.generate_regex_from_list_of_str(text))"
   ]
  },
  {
   "cell_type": "code",
   "execution_count": 2,
   "metadata": {},
   "outputs": [
    {
     "data": {
      "text/plain": [
       "0      \\d{1}\\-\\d{1}\\/\\d{1}[a-z]{2}\\s[A-Z]{1}[a-z]{3}\\...\n",
       "1      \\d{1}[a-z]{2}\\s[A-Z]{1}[a-z]{3}\\s[A-Z]{1}[a-z]...\n",
       "2      \\d{2}\\\"\\s[A-Z]{1}[a-z]{6}\\s[A-Z]{1}[a-z]{3}\\s[...\n",
       "3      [A-Z]{1}[a-z]{4}\\s[A-Z]{1}[a-z]{4}\\s\\d{2}\\\"\\s[...\n",
       "4      [A-Z]{1}[a-z]{4}\\s[A-Z]{1}[a-z]{4}\\s\\d{2}\\\"\\s[...\n",
       "                             ...                        \n",
       "123    [A-Z]{1}[a-z]{5}\\s[A-Z]{1}[a-z]{2}\\s[A-Z]{1}[a...\n",
       "124    \\d{2}\\\"\\s[A-Z]{1}[a-z]{6}\\s[A-Z]{1}[a-z]{3}\\,\\...\n",
       "125    \\d{2}\\\"\\s[A-Z]{1}[a-z]{6}\\s[A-Z]{1}[a-z]{3}\\,\\...\n",
       "126    [A-Z]{1}[a-z]{5}\\s[A-Z]{1}[a-z]{3}\\s[A-Z]{1}[a...\n",
       "127    \\d{1}[a-z]{2}\\s[A-Z]{1}[a-z]{3}\\s[A-Z]{1}[a-z]...\n",
       "Name: Item Description, Length: 128, dtype: object"
      ]
     },
     "execution_count": 2,
     "metadata": {},
     "output_type": "execute_result"
    }
   ],
   "source": [
    "from package.formatcalculator import FormatCalculator\n",
    "import pandas as pd\n",
    "\n",
    "# reads df from csv\n",
    "df             = pd.read_csv(\"testfile.csv\")\n",
    "\n",
    "mitter         = FormatCalculator.hash_df_formats(df)\n",
    "mitter['Item Description']"
   ]
  },
  {
   "cell_type": "code",
   "execution_count": 9,
   "metadata": {},
   "outputs": [
    {
     "data": {
      "text/plain": [
       "'[a-z]{4}\\\\s{2}'"
      ]
     },
     "execution_count": 9,
     "metadata": {},
     "output_type": "execute_result"
    }
   ],
   "source": [
    "import itertools\n",
    "\n",
    "\n",
    "def format_regex_list(regex):\n",
    "    groups = (\n",
    "        (key, sum(1 for _ in values)) for (key, values) in itertools.groupby(regex)\n",
    "    )\n",
    "\n",
    "    regxs = []\n",
    "    for name, gp in groups:\n",
    "        if \"{\" and \"}\" in name:\n",
    "            name = name[:-3]\n",
    "            name += \"{\" + str(gp) + \"}\"\n",
    "        elif \"{\" and \"}\" not in name and gp > 1:\n",
    "            name = name + \"{\" + str(gp) + \"}\"\n",
    "        regxs.append(name)\n",
    "    return r\"\".join(regxs)"
   ]
  },
  {
   "cell_type": "code",
   "execution_count": 4,
   "metadata": {},
   "outputs": [],
   "source": [
    "import os\n",
    "\n",
    "PATH = './package/'\n",
    "\n",
    "for path, dirs, files in os.walk(PATH):\n",
    "    for f in files:\n",
    "        file_name, file_extension = os.path.splitext(f)\n",
    "        if file_extension == '.py':\n",
    "            path_name = os.path.join(path, f)\n",
    "            with open(path_name, 'r') as fh:\n",
    "                new = [line.rstrip() for line in fh]\n",
    "            with open(path_name, 'w') as fh:\n",
    "                [fh.write('%s\\n' % line) for line in new]"
   ]
  }
 ],
 "metadata": {
  "kernelspec": {
   "display_name": "dataclasses",
   "language": "python",
   "name": "python3"
  },
  "language_info": {
   "codemirror_mode": {
    "name": "ipython",
    "version": 3
   },
   "file_extension": ".py",
   "mimetype": "text/x-python",
   "name": "python",
   "nbconvert_exporter": "python",
   "pygments_lexer": "ipython3",
   "version": "3.9.18"
  }
 },
 "nbformat": 4,
 "nbformat_minor": 2
}
