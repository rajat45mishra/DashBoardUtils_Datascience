{
 "cells": [
  {
   "cell_type": "code",
   "execution_count": 1,
   "metadata": {},
   "outputs": [],
   "source": [
    "from package.formatcalculator import FormatCalculator,Mitter\n",
    "import pandas as pd\n",
    "# reads df from csv\n",
    "df             = pd.read_csv(\"testfile.csv\")\n",
    "\n",
    "mitter         = FormatCalculator.generate_datamiter(df)\n",
    "mitter2        = mitter.formatwise_mitter()\n",
    "formateld      = Mitter.hash_str_patterns(mitter2)\n",
    "\n",
    "\n",
    "                "
   ]
  },
  {
   "cell_type": "code",
   "execution_count": 1,
   "metadata": {},
   "outputs": [],
   "source": [
    "import os\n",
    "\n",
    "PATH = './package/'\n",
    "\n",
    "for path, dirs, files in os.walk(PATH):\n",
    "    for f in files:\n",
    "        file_name, file_extension = os.path.splitext(f)\n",
    "        if file_extension == '.py':\n",
    "            path_name = os.path.join(path, f)\n",
    "            with open(path_name, 'r') as fh:\n",
    "                new = [line.rstrip() for line in fh]\n",
    "            with open(path_name, 'w') as fh:\n",
    "                [fh.write('%s\\n' % line) for line in new]"
   ]
  },
  {
   "cell_type": "code",
   "execution_count": null,
   "metadata": {},
   "outputs": [],
   "source": [
    "    \n",
    "\n",
    "from package.variationcalculator import VERIATIONS\n",
    "\n",
    "\n",
    "mitter         = FormatCalculator.generate_datamiter(df)\n",
    "mitter2        = mitter.formatwise_mitter()\n",
    "formateld      = Mitter.hash_str_patterns(mitter2)\n",
    "veri           = VERIATIONS(formateld,pd.DataFrame(columns=mitter.get_row_ordring_seq_from_dataset(df,iterlen=3)))\n",
    "cols           = veri.formats_and_no_of_patterns()\n",
    "sw             = veri.row_sequance_veriations()\n",
    "assert isinstance(cols,dict)\n",
    "assert isinstance(sw,list)"
   ]
  }
 ],
 "metadata": {
  "kernelspec": {
   "display_name": "dataclasses",
   "language": "python",
   "name": "python3"
  },
  "language_info": {
   "codemirror_mode": {
    "name": "ipython",
    "version": 3
   },
   "file_extension": ".py",
   "mimetype": "text/x-python",
   "name": "python",
   "nbconvert_exporter": "python",
   "pygments_lexer": "ipython3",
   "version": "3.9.18"
  }
 },
 "nbformat": 4,
 "nbformat_minor": 2
}
